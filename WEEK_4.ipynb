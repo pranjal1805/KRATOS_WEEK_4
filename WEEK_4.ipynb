{
  "nbformat": 4,
  "nbformat_minor": 0,
  "metadata": {
    "colab": {
      "name": "WEEK 4.ipynb",
      "provenance": [],
      "authorship_tag": "ABX9TyMwuFIlxfW9MDcNj8ZVHDYW",
      "include_colab_link": true
    },
    "kernelspec": {
      "name": "python3",
      "display_name": "Python 3"
    },
    "language_info": {
      "name": "python"
    }
  },
  "cells": [
    {
      "cell_type": "markdown",
      "metadata": {
        "id": "view-in-github",
        "colab_type": "text"
      },
      "source": [
        "<a href=\"https://colab.research.google.com/github/pranjal1805/KRATOS_WEEK_4/blob/main/WEEK_4.ipynb\" target=\"_parent\"><img src=\"https://colab.research.google.com/assets/colab-badge.svg\" alt=\"Open In Colab\"/></a>"
      ]
    },
    {
      "cell_type": "code",
      "metadata": {
        "colab": {
          "base_uri": "https://localhost:8080/"
        },
        "id": "AHUAV3-oNRMy",
        "outputId": "ed1dc358-6bef-4dd4-a7d2-3a7df4efe311"
      },
      "source": [
        "!pip install bing-image-downloader"
      ],
      "execution_count": 1,
      "outputs": [
        {
          "output_type": "stream",
          "text": [
            "Collecting bing-image-downloader\n",
            "  Downloading bing_image_downloader-1.1.1-py3-none-any.whl (5.7 kB)\n",
            "Installing collected packages: bing-image-downloader\n",
            "Successfully installed bing-image-downloader-1.1.1\n"
          ],
          "name": "stdout"
        }
      ]
    },
    {
      "cell_type": "code",
      "metadata": {
        "colab": {
          "base_uri": "https://localhost:8080/"
        },
        "id": "MZWZOX4lNsQo",
        "outputId": "ccb94024-dd34-44b3-c781-6c49c7028864"
      },
      "source": [
        "!mkdir images"
      ],
      "execution_count": 3,
      "outputs": [
        {
          "output_type": "stream",
          "text": [
            "mkdir: cannot create directory ‘images’: File exists\n"
          ],
          "name": "stdout"
        }
      ]
    },
    {
      "cell_type": "code",
      "metadata": {
        "id": "0uhtyf26Nu3w"
      },
      "source": [
        "from bing_image_downloader import downloader"
      ],
      "execution_count": 4,
      "outputs": []
    },
    {
      "cell_type": "code",
      "metadata": {
        "colab": {
          "base_uri": "https://localhost:8080/"
        },
        "id": "fxeKLEZ-OEvd",
        "outputId": "b81dfac0-2fdd-453d-be4e-0fe60f39821c"
      },
      "source": [
        "downloader.download(\"Real Madrid\", limit = 25, output_dir='images')"
      ],
      "execution_count": 6,
      "outputs": [
        {
          "output_type": "stream",
          "text": [
            "[%] Downloading Images to /content/images/Real Madrid\n",
            "\n",
            "\n",
            "[!!]Indexing page: 1\n",
            "\n",
            "[%] Indexed 25 Images on Page 1.\n",
            "\n",
            "===============================================\n",
            "\n",
            "[%] Downloading Image #1 from https://i.ytimg.com/vi/PNqg5pChkw4/maxresdefault.jpg\n",
            "[%] File Downloaded !\n",
            "\n",
            "[%] Downloading Image #2 from https://i.pinimg.com/originals/36/e5/48/36e548101f1937e02701c12822b95c7d.jpg\n",
            "[%] File Downloaded !\n",
            "\n",
            "[%] Downloading Image #3 from https://astamfordbridgetoofar.com/wp-content/uploads/2021/04/1002164406-scaled.jpg\n",
            "[%] File Downloaded !\n",
            "\n",
            "[%] Downloading Image #4 from http://media.squawka.com/en/wp-content/uploads/2017/03/05190208/GettyImages-647838182.jpg\n",
            "[%] File Downloaded !\n",
            "\n",
            "[%] Downloading Image #5 from https://i.pinimg.com/474x/e9/fb/40/e9fb40c6616f0c62a86c164b42755528--syrian-refugees-cristiano-ronaldo.jpg\n",
            "[%] File Downloaded !\n",
            "\n",
            "[%] Downloading Image #6 from https://i1.wp.com/arsenaltruefans.com/wp-content/uploads/2018/06/IMG_20180603_232241_359.jpg?fit=2048%2C1190&amp;ssl=1\n",
            "[%] File Downloaded !\n",
            "\n",
            "[%] Downloading Image #7 from https://cdn.mos.cms.futurecdn.net/zcVMGpg6pf55yv4MX7Ta6F-1200-80.jpg\n",
            "[%] File Downloaded !\n",
            "\n",
            "[%] Downloading Image #8 from https://imgresizer.eurosport.com/unsafe/1200x0/filters:format(jpeg):focal(1254x701:1256x699)/origin-imgresizer.eurosport.com/2017/06/02/2097433-43943870-2560-1440.jpg\n",
            "[%] File Downloaded !\n",
            "\n",
            "[%] Downloading Image #9 from https://i.pinimg.com/originals/c9/1a/49/c91a493b1165731286996573d0bf7b9b.jpg\n",
            "[%] File Downloaded !\n",
            "\n",
            "[%] Downloading Image #10 from https://phantom-marca.unidadeditorial.es/7c7328e5b175427b4e36449a00747a63/f/jpg/assets/multimedia/imagenes/2020/11/17/16056322623606.jpg\n",
            "[%] File Downloaded !\n",
            "\n",
            "[%] Downloading Image #11 from https://i.pinimg.com/originals/f4/40/d6/f440d6190ae01dd1348586c1d7a2a4c1.jpg\n",
            "[%] File Downloaded !\n",
            "\n",
            "[%] Downloading Image #12 from https://static.independent.co.uk/s3fs-public/thumbnails/image/2017/04/24/16/ramos-pique-1.jpg?width=1200&amp;auto=webp&amp;quality=75\n",
            "[%] File Downloaded !\n",
            "\n",
            "[%] Downloading Image #13 from https://i.pinimg.com/originals/53/90/ee/5390ee3abb0a0df707e710545b7bae53.jpg\n",
            "[%] File Downloaded !\n",
            "\n",
            "[%] Downloading Image #14 from https://images.daznservices.com/di/library/GOAL/2a/3b/casemiro-real-madrid-2020_1tla2w33m2j6012jeg15r2nuuo.jpg?t=-1180227641&amp;w={width}&amp;quality=80\n",
            "[%] File Downloaded !\n",
            "\n",
            "[%] Downloading Image #15 from https://site-cdn.givemesport.com/images/20/01/07/0cdc4f96ae9fcc2fd50037281f0c32c8/960.jpg\n",
            "[%] File Downloaded !\n",
            "\n",
            "[%] Downloading Image #16 from https://cdn.vox-cdn.com/thumbor/gc3t7gJudiDhphWvid0soo1kmVw=/0x0:2596x1730/1200x800/filters:focal(849x172:1263x586)/cdn.vox-cdn.com/uploads/chorus_image/image/68000328/1288500028.0.jpg\n",
            "[%] File Downloaded !\n",
            "\n",
            "[%] Downloading Image #17 from https://i.pinimg.com/originals/ab/84/7c/ab847cec0d560af9169e3401ece94506.jpg\n",
            "[%] File Downloaded !\n",
            "\n",
            "[%] Downloading Image #18 from https://i.pinimg.com/originals/f3/d6/bf/f3d6bf1ff89dfb74177d510a55299373.jpg\n",
            "[%] File Downloaded !\n",
            "\n",
            "[%] Downloading Image #19 from https://s.ndtvimg.com/images/content/2015/jan/806/lucas-silva-real-madrid.jpg?output-quality=60&amp;output-format=webp&amp;downsize=555:*\n",
            "[%] File Downloaded !\n",
            "\n",
            "[%] Downloading Image #20 from https://www.thenationalnews.com/image/policy:1.17403:1498908477/image/jpeg.jpg?f=16x9&amp;w=700&amp;$p$f$w=15b47cd\n",
            "[!] Issue getting: https://www.thenationalnews.com/image/policy:1.17403:1498908477/image/jpeg.jpg?f=16x9&amp;w=700&amp;$p$f$w=15b47cd\n",
            "[!] Error:: HTTP Error 404: Not Found\n",
            "[%] Downloading Image #20 from https://www.realmadrid.com/cs/Satellite?blobcol=urldata&amp;blobheader=image%2Fjpeg&amp;blobkey=id&amp;blobtable=MungoBlobs&amp;blobwhere=1203400165255&amp;ssbinary=true\n",
            "[!] Issue getting: https://www.realmadrid.com/cs/Satellite?blobcol=urldata&amp;blobheader=image%2Fjpeg&amp;blobkey=id&amp;blobtable=MungoBlobs&amp;blobwhere=1203400165255&amp;ssbinary=true\n",
            "[!] Error:: HTTP Error 400: Bad Request\n",
            "[%] Downloading Image #20 from https://images2.minutemediacdn.com/image/fetch/w_850,h_560,c_fill,g_auto,f_auto/https:%2F%2Ftherealchamps.com%2Fwp-content%2Fuploads%2Fgetty-images%2F2020%2F02%2F1208894954-850x560.jpeg\n",
            "[%] File Downloaded !\n",
            "\n",
            "[%] Downloading Image #21 from https://tunegsm.com/wp-content/uploads/2018/07/WhatsApp-Image-2018-07-10-at-5.34.59-AM-1024x1024.jpeg\n",
            "[%] File Downloaded !\n",
            "\n",
            "[%] Downloading Image #22 from https://ronaldo.com/wp-content/uploads/2018/08/Vini.jpg\n",
            "[%] File Downloaded !\n",
            "\n",
            "[%] Downloading Image #23 from https://www.spainenglish.com/wp-content/uploads/2018/08/1RMcourtois-rp62Thumb-960x1037.jpg\n",
            "[%] File Downloaded !\n",
            "\n",
            "\n",
            "\n",
            "[!!]Indexing page: 2\n",
            "\n",
            "[%] Indexed 35 Images on Page 2.\n",
            "\n",
            "===============================================\n",
            "\n",
            "[%] Downloading Image #24 from https://i.ytimg.com/vi/PNqg5pChkw4/maxresdefault.jpg\n",
            "[%] File Downloaded !\n",
            "\n",
            "[%] Downloading Image #25 from https://i.pinimg.com/originals/36/e5/48/36e548101f1937e02701c12822b95c7d.jpg\n",
            "[%] File Downloaded !\n",
            "\n",
            "\n",
            "\n",
            "[%] Done. Downloaded 25 images.\n",
            "===============================================\n",
            "\n",
            "Please show your support here\n",
            "https://www.buymeacoffee.com/gurugaurav\n",
            "\n",
            "===============================================\n",
            "\n"
          ],
          "name": "stdout"
        }
      ]
    },
    {
      "cell_type": "code",
      "metadata": {
        "id": "qBKgA_cDOb_X"
      },
      "source": [
        ""
      ],
      "execution_count": null,
      "outputs": []
    }
  ]
}